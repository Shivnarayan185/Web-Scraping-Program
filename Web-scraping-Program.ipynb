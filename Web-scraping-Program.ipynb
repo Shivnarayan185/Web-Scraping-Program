{
 "cells": [
  {
   "cell_type": "code",
   "execution_count": 2,
   "id": "0d1ba33c-17d4-4a9a-921e-e44cfee052aa",
   "metadata": {},
   "outputs": [
    {
     "name": "stdout",
     "output_type": "stream",
     "text": [
      "Scraping Page 1...\n",
      "Scraping Page 2...\n",
      "Scraping Page 3...\n",
      "Scraping Page 4...\n",
      "Scraping Page 5...\n",
      "\n",
      "Scraping complete! Data saved to books_data.csv\n"
     ]
    }
   ],
   "source": [
    "import requests\n",
    "from bs4 import BeautifulSoup\n",
    "import csv\n",
    "\n",
    "# URL of the website to scrape\n",
    "BASE_URL = 'http://books.toscrape.com/catalogue/page-{}.html'\n",
    "\n",
    "# CSV file setup\n",
    "filename = 'books_data.csv'\n",
    "fields = ['Title', 'Price', 'Rating']\n",
    "\n",
    "# Convert rating text to stars\n",
    "def convert_rating(rating_class):\n",
    "    rating_dict = {\n",
    "        'One': 1,\n",
    "        'Two': 2,\n",
    "        'Three': 3,\n",
    "        'Four': 4,\n",
    "        'Five': 5\n",
    "    }\n",
    "    return rating_dict.get(rating_class, 0)\n",
    "\n",
    "# Store scraped data\n",
    "all_books = []\n",
    "\n",
    "# Scrape first 5 pages\n",
    "for page in range(1, 6):\n",
    "    print(f\"Scraping Page {page}...\")\n",
    "    url = BASE_URL.format(page)\n",
    "    response = requests.get(url)\n",
    "    soup = BeautifulSoup(response.text, 'html.parser')\n",
    "    \n",
    "    books = soup.find_all('article', class_='product_pod')\n",
    "    \n",
    "    for book in books:\n",
    "        title = book.h3.a['title']\n",
    "        price = book.find('p', class_='price_color').text[1:]  # Remove £\n",
    "        rating = convert_rating(book.p['class'][1])  # Get rating from class\n",
    "        \n",
    "        all_books.append([title, price, rating])\n",
    "\n",
    "# Write to CSV\n",
    "with open(filename, 'w', newline='', encoding='utf-8') as f:\n",
    "    writer = csv.writer(f)\n",
    "    writer.writerow(fields)\n",
    "    writer.writerows(all_books)\n",
    "\n",
    "print(f\"\\nScraping complete! Data saved to {filename}\")"
   ]
  },
  {
   "cell_type": "code",
   "execution_count": null,
   "id": "c21ecdf6-0430-4ce6-918e-17b429661384",
   "metadata": {},
   "outputs": [],
   "source": []
  }
 ],
 "metadata": {
  "kernelspec": {
   "display_name": "Python [conda env:base] *",
   "language": "python",
   "name": "conda-base-py"
  },
  "language_info": {
   "codemirror_mode": {
    "name": "ipython",
    "version": 3
   },
   "file_extension": ".py",
   "mimetype": "text/x-python",
   "name": "python",
   "nbconvert_exporter": "python",
   "pygments_lexer": "ipython3",
   "version": "3.12.7"
  }
 },
 "nbformat": 4,
 "nbformat_minor": 5
}
